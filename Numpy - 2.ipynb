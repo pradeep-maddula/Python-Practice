{
 "cells": [
  {
   "cell_type": "markdown",
   "id": "2d07b49b-4322-4cfc-9fed-cd61a6aa6333",
   "metadata": {},
   "source": [
    "## Numpy - 2"
   ]
  },
  {
   "cell_type": "code",
   "execution_count": 1,
   "id": "3b7a1e4e-c4e2-4cf1-8fbd-429b0131e143",
   "metadata": {},
   "outputs": [],
   "source": [
    "import numpy as np"
   ]
  },
  {
   "cell_type": "code",
   "execution_count": 7,
   "id": "d130c6bc-e9f0-46f8-89be-a1dad73948bc",
   "metadata": {},
   "outputs": [
    {
     "data": {
      "text/plain": [
       "array([[ 1,  2,  3,  4],\n",
       "       [ 5,  6,  7,  8],\n",
       "       [ 9, 10, 11, 12]])"
      ]
     },
     "execution_count": 7,
     "metadata": {},
     "output_type": "execute_result"
    }
   ],
   "source": [
    "np.arange(1,13).reshape(3,4)"
   ]
  },
  {
   "cell_type": "code",
   "execution_count": 8,
   "id": "ee2db52e-d5cb-4efb-b123-b49549e5dacf",
   "metadata": {},
   "outputs": [
    {
     "data": {
      "text/plain": [
       "array([[ 1,  2,  3,  4,  5,  6],\n",
       "       [ 7,  8,  9, 10, 11, 12],\n",
       "       [13, 14, 15, 16, 17, 18],\n",
       "       [19, 20, 21, 22, 23, 24],\n",
       "       [25, 26, 27, 28, 29, 30],\n",
       "       [31, 32, 33, 34, 35, 36]])"
      ]
     },
     "execution_count": 8,
     "metadata": {},
     "output_type": "execute_result"
    }
   ],
   "source": [
    "np.arange(1,37).reshape(6,6)"
   ]
  },
  {
   "cell_type": "code",
   "execution_count": 9,
   "id": "cab8f961-7f3f-4c79-bb3b-99bfa3b46a59",
   "metadata": {},
   "outputs": [
    {
     "ename": "ValueError",
     "evalue": "cannot reshape array of size 36 into shape (6,7)",
     "output_type": "error",
     "traceback": [
      "\u001b[1;31m---------------------------------------------------------------------------\u001b[0m",
      "\u001b[1;31mValueError\u001b[0m                                Traceback (most recent call last)",
      "Cell \u001b[1;32mIn[9], line 1\u001b[0m\n\u001b[1;32m----> 1\u001b[0m \u001b[43mnp\u001b[49m\u001b[38;5;241;43m.\u001b[39;49m\u001b[43marange\u001b[49m\u001b[43m(\u001b[49m\u001b[38;5;241;43m1\u001b[39;49m\u001b[43m,\u001b[49m\u001b[38;5;241;43m37\u001b[39;49m\u001b[43m)\u001b[49m\u001b[38;5;241;43m.\u001b[39;49m\u001b[43mreshape\u001b[49m\u001b[43m(\u001b[49m\u001b[38;5;241;43m6\u001b[39;49m\u001b[43m,\u001b[49m\u001b[38;5;241;43m7\u001b[39;49m\u001b[43m)\u001b[49m\n",
      "\u001b[1;31mValueError\u001b[0m: cannot reshape array of size 36 into shape (6,7)"
     ]
    }
   ],
   "source": [
    "np.arange(1,37).reshape(6,7)"
   ]
  },
  {
   "cell_type": "markdown",
   "id": "6ca3efbc-2e00-435d-802e-bb6178db06d0",
   "metadata": {},
   "source": [
    "#slicing in matrix"
   ]
  },
  {
   "cell_type": "code",
   "execution_count": 13,
   "id": "48ac999f-3b24-4251-a24c-806607837d53",
   "metadata": {},
   "outputs": [
    {
     "data": {
      "text/plain": [
       "array([[20, 21, 16, 12, 21],\n",
       "       [16, 16, 18, 17, 12],\n",
       "       [10, 19, 23, 12, 23],\n",
       "       [21, 19, 24, 12, 16],\n",
       "       [13, 11, 15, 13, 18]], dtype=int32)"
      ]
     },
     "execution_count": 13,
     "metadata": {},
     "output_type": "execute_result"
    }
   ],
   "source": [
    "a = np.random.randint(10,25,(5,5))\n",
    "a"
   ]
  },
  {
   "cell_type": "code",
   "execution_count": 14,
   "id": "ad81c15d-1833-4f38-9f8d-a77101b189f3",
   "metadata": {},
   "outputs": [
    {
     "data": {
      "text/plain": [
       "numpy.ndarray"
      ]
     },
     "execution_count": 14,
     "metadata": {},
     "output_type": "execute_result"
    }
   ],
   "source": [
    "type(a)"
   ]
  },
  {
   "cell_type": "code",
   "execution_count": 15,
   "id": "07e1e0ac-a0b2-4af9-9b17-582f235d0745",
   "metadata": {},
   "outputs": [
    {
     "data": {
      "text/plain": [
       "array([[20, 21, 16, 12, 21],\n",
       "       [16, 16, 18, 17, 12],\n",
       "       [10, 19, 23, 12, 23],\n",
       "       [21, 19, 24, 12, 16],\n",
       "       [13, 11, 15, 13, 18]], dtype=int32)"
      ]
     },
     "execution_count": 15,
     "metadata": {},
     "output_type": "execute_result"
    }
   ],
   "source": [
    "a[:] # print entire matrix"
   ]
  },
  {
   "cell_type": "code",
   "execution_count": 16,
   "id": "40364acd-b918-4045-8a82-28561b07d29b",
   "metadata": {},
   "outputs": [
    {
     "data": {
      "text/plain": [
       "array([[16, 16, 18, 17, 12],\n",
       "       [10, 19, 23, 12, 23]], dtype=int32)"
      ]
     },
     "execution_count": 16,
     "metadata": {},
     "output_type": "execute_result"
    }
   ],
   "source": [
    "a[1:3] #print the two rows(1 , 2 rows)"
   ]
  },
  {
   "cell_type": "code",
   "execution_count": 19,
   "id": "4ca901f5-a492-4dfe-8546-582a34d182d8",
   "metadata": {},
   "outputs": [
    {
     "data": {
      "text/plain": [
       "np.int32(18)"
      ]
     },
     "execution_count": 19,
     "metadata": {},
     "output_type": "execute_result"
    }
   ],
   "source": [
    "a[1,2] # print the specific value in matrix"
   ]
  },
  {
   "cell_type": "code",
   "execution_count": 20,
   "id": "40c46f87-07ed-4d22-8533-4f112fdade04",
   "metadata": {},
   "outputs": [
    {
     "data": {
      "text/plain": [
       "np.int32(18)"
      ]
     },
     "execution_count": 20,
     "metadata": {},
     "output_type": "execute_result"
    }
   ],
   "source": [
    "a[1.2]   # it is do not print because the \".\" dot"
   ]
  },
  {
   "cell_type": "code",
   "execution_count": 21,
   "id": "78d6cbde-1764-41a5-9f5f-5c518b8e8d1d",
   "metadata": {},
   "outputs": [
    {
     "data": {
      "text/plain": [
       "np.int32(12)"
      ]
     },
     "execution_count": 21,
     "metadata": {},
     "output_type": "execute_result"
    }
   ],
   "source": [
    "a[1,-1]"
   ]
  },
  {
   "cell_type": "code",
   "execution_count": 23,
   "id": "ff7f8380-6976-46e3-9359-76cba0e27962",
   "metadata": {},
   "outputs": [
    {
     "data": {
      "text/plain": [
       "array([[10, 19, 23, 12, 23]], dtype=int32)"
      ]
     },
     "execution_count": 23,
     "metadata": {},
     "output_type": "execute_result"
    }
   ],
   "source": [
    "a[2:3]"
   ]
  },
  {
   "cell_type": "code",
   "execution_count": 24,
   "id": "503be17c-bb28-4706-a842-3de106c347db",
   "metadata": {},
   "outputs": [
    {
     "data": {
      "text/plain": [
       "np.int32(12)"
      ]
     },
     "execution_count": 24,
     "metadata": {},
     "output_type": "execute_result"
    }
   ],
   "source": [
    "a[0,3]"
   ]
  },
  {
   "cell_type": "code",
   "execution_count": 25,
   "id": "df8a1b81-065c-469a-862d-bc960e346a18",
   "metadata": {},
   "outputs": [
    {
     "data": {
      "text/plain": [
       "np.int32(16)"
      ]
     },
     "execution_count": 25,
     "metadata": {},
     "output_type": "execute_result"
    }
   ],
   "source": [
    "a[-5,-3]"
   ]
  },
  {
   "cell_type": "code",
   "execution_count": 26,
   "id": "d6388eaa-7128-444f-8bd0-07b23134b39f",
   "metadata": {},
   "outputs": [
    {
     "ename": "IndexError",
     "evalue": "index -6 is out of bounds for axis 0 with size 5",
     "output_type": "error",
     "traceback": [
      "\u001b[1;31m---------------------------------------------------------------------------\u001b[0m",
      "\u001b[1;31mIndexError\u001b[0m                                Traceback (most recent call last)",
      "Cell \u001b[1;32mIn[26], line 1\u001b[0m\n\u001b[1;32m----> 1\u001b[0m \u001b[43ma\u001b[49m\u001b[43m[\u001b[49m\u001b[38;5;241;43m-\u001b[39;49m\u001b[38;5;241;43m6\u001b[39;49m\u001b[43m,\u001b[49m\u001b[38;5;241;43m99\u001b[39;49m\u001b[43m]\u001b[49m\n",
      "\u001b[1;31mIndexError\u001b[0m: index -6 is out of bounds for axis 0 with size 5"
     ]
    }
   ],
   "source": [
    "a[-6,99]"
   ]
  },
  {
   "cell_type": "code",
   "execution_count": null,
   "id": "ad6ddba2-53ce-4a04-a187-38639adc35b5",
   "metadata": {},
   "outputs": [],
   "source": []
  },
  {
   "cell_type": "markdown",
   "id": "af793139-756a-457e-8bd6-431d13e02d8d",
   "metadata": {},
   "source": [
    "# numpy oparations"
   ]
  },
  {
   "cell_type": "code",
   "execution_count": 31,
   "id": "1a2c0566-6812-4027-afa1-e47a0c15b1ea",
   "metadata": {},
   "outputs": [
    {
     "data": {
      "text/plain": [
       "array([13, 17, 11, 14, 14, 19, 10, 15, 16, 15, 13, 12], dtype=int32)"
      ]
     },
     "execution_count": 31,
     "metadata": {},
     "output_type": "execute_result"
    }
   ],
   "source": [
    "b = np.random.randint(10,20,12)\n",
    "b"
   ]
  },
  {
   "cell_type": "code",
   "execution_count": 32,
   "id": "adbfefde-4c1e-40de-8d0e-d4322a585a46",
   "metadata": {},
   "outputs": [
    {
     "data": {
      "text/plain": [
       "2172308024624"
      ]
     },
     "execution_count": 32,
     "metadata": {},
     "output_type": "execute_result"
    }
   ],
   "source": [
    "id(b)"
   ]
  },
  {
   "cell_type": "code",
   "execution_count": 36,
   "id": "5862ce30-92f8-4c03-85bd-3d977aaed02a",
   "metadata": {},
   "outputs": [
    {
     "data": {
      "text/plain": [
       "array([[66, 10, 51, 26, 70, 21, 89, 93, 75, 72],\n",
       "       [12, 43, 67,  6, 56, 46, 52, 41, 38, 35],\n",
       "       [45, 84, 57, 41, 24,  7, 98,  6,  1, 45],\n",
       "       [63, 30, 28, 30, 99, 23, 14, 72, 95, 60],\n",
       "       [99, 34, 28, 45, 91, 88, 71, 85, 72,  7],\n",
       "       [70, 99, 18, 70, 89, 81, 26, 48, 71,  8],\n",
       "       [78,  4,  0, 83, 38, 18, 17, 59, 67, 58],\n",
       "       [82, 39, 81, 86, 84, 50, 76, 22, 66, 19],\n",
       "       [33,  5, 55, 51, 50, 93, 26, 86, 82, 65],\n",
       "       [ 8, 42, 84, 82, 64, 47, 71, 51, 79, 40]], dtype=int32)"
      ]
     },
     "execution_count": 36,
     "metadata": {},
     "output_type": "execute_result"
    }
   ],
   "source": [
    "arr1 = np.random.randint(0,100,(10,10))\n",
    "arr1"
   ]
  },
  {
   "cell_type": "code",
   "execution_count": 38,
   "id": "2c9b10f6-2ba5-45fa-95d0-e039d6d01d76",
   "metadata": {},
   "outputs": [
    {
     "data": {
      "text/plain": [
       "array([[45, 84, 57, 41, 24,  7, 98,  6,  1, 45],\n",
       "       [63, 30, 28, 30, 99, 23, 14, 72, 95, 60],\n",
       "       [99, 34, 28, 45, 91, 88, 71, 85, 72,  7],\n",
       "       [70, 99, 18, 70, 89, 81, 26, 48, 71,  8]], dtype=int32)"
      ]
     },
     "execution_count": 38,
     "metadata": {},
     "output_type": "execute_result"
    }
   ],
   "source": [
    "arr1[2:6]"
   ]
  },
  {
   "cell_type": "code",
   "execution_count": 40,
   "id": "73d3a845-a65b-4ad6-83de-0855e51363c1",
   "metadata": {},
   "outputs": [
    {
     "data": {
      "text/plain": [
       "array([[66, 10, 51, 26, 70, 21, 89, 93, 75, 72],\n",
       "       [12, 43, 67,  6, 56, 46, 52, 41, 38, 35],\n",
       "       [45, 84, 57, 41, 24,  7, 98,  6,  1, 45]], dtype=int32)"
      ]
     },
     "execution_count": 40,
     "metadata": {},
     "output_type": "execute_result"
    }
   ],
   "source": [
    "arr1[:3]"
   ]
  },
  {
   "cell_type": "code",
   "execution_count": 43,
   "id": "3894890a-8607-4f61-951c-42c4fc2b039c",
   "metadata": {},
   "outputs": [
    {
     "data": {
      "text/plain": [
       "array([[45, 84, 57, 41, 24,  7, 98,  6,  1, 45],\n",
       "       [63, 30, 28, 30, 99, 23, 14, 72, 95, 60],\n",
       "       [99, 34, 28, 45, 91, 88, 71, 85, 72,  7]], dtype=int32)"
      ]
     },
     "execution_count": 43,
     "metadata": {},
     "output_type": "execute_result"
    }
   ],
   "source": [
    "arr1[2:-5]"
   ]
  },
  {
   "cell_type": "code",
   "execution_count": 45,
   "id": "fca54f18-53a4-44f0-a5c3-4f339dc87ab8",
   "metadata": {},
   "outputs": [
    {
     "data": {
      "text/plain": [
       "array([], shape=(0, 10), dtype=int32)"
      ]
     },
     "execution_count": 45,
     "metadata": {},
     "output_type": "execute_result"
    }
   ],
   "source": [
    "arr1[-2:-5]"
   ]
  },
  {
   "cell_type": "code",
   "execution_count": 47,
   "id": "9839734d-a0af-4d11-95eb-4f6f5a9fd832",
   "metadata": {},
   "outputs": [
    {
     "data": {
      "text/plain": [
       "array([[66, 10, 51, 26, 70, 21, 89, 93, 75, 72],\n",
       "       [12, 43, 67,  6, 56, 46, 52, 41, 38, 35],\n",
       "       [45, 84, 57, 41, 24,  7, 98,  6,  1, 45],\n",
       "       [63, 30, 28, 30, 99, 23, 14, 72, 95, 60],\n",
       "       [99, 34, 28, 45, 91, 88, 71, 85, 72,  7],\n",
       "       [70, 99, 18, 70, 89, 81, 26, 48, 71,  8],\n",
       "       [78,  4,  0, 83, 38, 18, 17, 59, 67, 58],\n",
       "       [82, 39, 81, 86, 84, 50, 76, 22, 66, 19],\n",
       "       [33,  5, 55, 51, 50, 93, 26, 86, 82, 65],\n",
       "       [ 8, 42, 84, 82, 64, 47, 71, 51, 79, 40]], dtype=int32)"
      ]
     },
     "execution_count": 47,
     "metadata": {},
     "output_type": "execute_result"
    }
   ],
   "source": [
    "arr1[:]"
   ]
  },
  {
   "cell_type": "code",
   "execution_count": 48,
   "id": "d6a2715b-07ab-4c79-86af-1b33e8abb0b1",
   "metadata": {},
   "outputs": [
    {
     "data": {
      "text/plain": [
       "array([[ 8, 42, 84, 82, 64, 47, 71, 51, 79, 40],\n",
       "       [33,  5, 55, 51, 50, 93, 26, 86, 82, 65],\n",
       "       [82, 39, 81, 86, 84, 50, 76, 22, 66, 19],\n",
       "       [78,  4,  0, 83, 38, 18, 17, 59, 67, 58],\n",
       "       [70, 99, 18, 70, 89, 81, 26, 48, 71,  8],\n",
       "       [99, 34, 28, 45, 91, 88, 71, 85, 72,  7],\n",
       "       [63, 30, 28, 30, 99, 23, 14, 72, 95, 60],\n",
       "       [45, 84, 57, 41, 24,  7, 98,  6,  1, 45],\n",
       "       [12, 43, 67,  6, 56, 46, 52, 41, 38, 35],\n",
       "       [66, 10, 51, 26, 70, 21, 89, 93, 75, 72]], dtype=int32)"
      ]
     },
     "execution_count": 48,
     "metadata": {},
     "output_type": "execute_result"
    }
   ],
   "source": [
    "arr1[::-1]"
   ]
  },
  {
   "cell_type": "code",
   "execution_count": 49,
   "id": "1c559e60-91ff-4324-b4ce-3cdd9d305a02",
   "metadata": {},
   "outputs": [
    {
     "data": {
      "text/plain": [
       "array([[ 8, 42, 84, 82, 64, 47, 71, 51, 79, 40],\n",
       "       [99, 34, 28, 45, 91, 88, 71, 85, 72,  7]], dtype=int32)"
      ]
     },
     "execution_count": 49,
     "metadata": {},
     "output_type": "execute_result"
    }
   ],
   "source": [
    "arr1[::-5]"
   ]
  },
  {
   "cell_type": "code",
   "execution_count": 50,
   "id": "34656ac9-6505-4347-bae5-af372282d617",
   "metadata": {},
   "outputs": [
    {
     "data": {
      "text/plain": [
       "array([[66, 10, 51, 26, 70, 21, 89, 93, 75, 72],\n",
       "       [12, 43, 67,  6, 56, 46, 52, 41, 38, 35],\n",
       "       [45, 84, 57, 41, 24,  7, 98,  6,  1, 45],\n",
       "       [63, 30, 28, 30, 99, 23, 14, 72, 95, 60],\n",
       "       [99, 34, 28, 45, 91, 88, 71, 85, 72,  7],\n",
       "       [70, 99, 18, 70, 89, 81, 26, 48, 71,  8],\n",
       "       [78,  4,  0, 83, 38, 18, 17, 59, 67, 58],\n",
       "       [82, 39, 81, 86, 84, 50, 76, 22, 66, 19],\n",
       "       [33,  5, 55, 51, 50, 93, 26, 86, 82, 65]], dtype=int32)"
      ]
     },
     "execution_count": 50,
     "metadata": {},
     "output_type": "execute_result"
    }
   ],
   "source": [
    "arr1[:-1]"
   ]
  },
  {
   "cell_type": "code",
   "execution_count": 51,
   "id": "de0a05f9-a096-4bf6-b7e2-a4b5fbfde019",
   "metadata": {},
   "outputs": [
    {
     "data": {
      "text/plain": [
       "array([[66, 10, 51, 26, 70, 21, 89, 93, 75, 72],\n",
       "       [12, 43, 67,  6, 56, 46, 52, 41, 38, 35],\n",
       "       [45, 84, 57, 41, 24,  7, 98,  6,  1, 45]], dtype=int32)"
      ]
     },
     "execution_count": 51,
     "metadata": {},
     "output_type": "execute_result"
    }
   ],
   "source": [
    "arr1[:3]"
   ]
  },
  {
   "cell_type": "code",
   "execution_count": 53,
   "id": "cf523fee-ef91-47ea-b656-ae8f5db5f777",
   "metadata": {},
   "outputs": [
    {
     "data": {
      "text/plain": [
       "np.int32(99)"
      ]
     },
     "execution_count": 53,
     "metadata": {},
     "output_type": "execute_result"
    }
   ],
   "source": [
    "arr1.max()"
   ]
  },
  {
   "cell_type": "code",
   "execution_count": 54,
   "id": "d4d1c82d-15d3-4aa4-aa37-fa095fed3a02",
   "metadata": {},
   "outputs": [
    {
     "data": {
      "text/plain": [
       "np.int32(0)"
      ]
     },
     "execution_count": 54,
     "metadata": {},
     "output_type": "execute_result"
    }
   ],
   "source": [
    "arr1.min()"
   ]
  },
  {
   "cell_type": "code",
   "execution_count": 58,
   "id": "e3f91ce6-3e27-4d72-bd1a-42b3e85be9ea",
   "metadata": {},
   "outputs": [
    {
     "data": {
      "text/plain": [
       "np.float64(52.32)"
      ]
     },
     "execution_count": 58,
     "metadata": {},
     "output_type": "execute_result"
    }
   ],
   "source": [
    "arr1.mean()"
   ]
  },
  {
   "cell_type": "code",
   "execution_count": 60,
   "id": "6154ad3b-01cc-49e4-a37e-68dae0d6ecad",
   "metadata": {},
   "outputs": [
    {
     "ename": "AttributeError",
     "evalue": "'numpy.ndarray' object has no attribute 'median'",
     "output_type": "error",
     "traceback": [
      "\u001b[1;31m---------------------------------------------------------------------------\u001b[0m",
      "\u001b[1;31mAttributeError\u001b[0m                            Traceback (most recent call last)",
      "Cell \u001b[1;32mIn[60], line 1\u001b[0m\n\u001b[1;32m----> 1\u001b[0m \u001b[43marr1\u001b[49m\u001b[38;5;241;43m.\u001b[39;49m\u001b[43mmedian\u001b[49m()  \u001b[38;5;66;03m# this functions is not working\u001b[39;00m\n",
      "\u001b[1;31mAttributeError\u001b[0m: 'numpy.ndarray' object has no attribute 'median'"
     ]
    }
   ],
   "source": [
    "arr1.median()  # this functions is not working"
   ]
  },
  {
   "cell_type": "markdown",
   "id": "1630b18d-a45b-4f79-b7fc-def865cb4548",
   "metadata": {},
   "source": [
    "# Matrix"
   ]
  },
  {
   "cell_type": "code",
   "execution_count": 61,
   "id": "543c6cff-1cb9-4020-9794-78781458a8c7",
   "metadata": {},
   "outputs": [
    {
     "data": {
      "text/plain": [
       "array([[ 0,  1,  2,  3,  4,  5,  6,  7,  8,  9],\n",
       "       [10, 11, 12, 13, 14, 15, 16, 17, 18, 19],\n",
       "       [20, 21, 22, 23, 24, 25, 26, 27, 28, 29],\n",
       "       [30, 31, 32, 33, 34, 35, 36, 37, 38, 39],\n",
       "       [40, 41, 42, 43, 44, 45, 46, 47, 48, 49],\n",
       "       [50, 51, 52, 53, 54, 55, 56, 57, 58, 59],\n",
       "       [60, 61, 62, 63, 64, 65, 66, 67, 68, 69],\n",
       "       [70, 71, 72, 73, 74, 75, 76, 77, 78, 79],\n",
       "       [80, 81, 82, 83, 84, 85, 86, 87, 88, 89],\n",
       "       [90, 91, 92, 93, 94, 95, 96, 97, 98, 99]])"
      ]
     },
     "execution_count": 61,
     "metadata": {},
     "output_type": "execute_result"
    }
   ],
   "source": [
    "mat = np.arange(0,100).reshape(10,10)\n",
    "mat"
   ]
  },
  {
   "cell_type": "code",
   "execution_count": 66,
   "id": "3e1fadb7-838c-4c78-8ecd-7fc8d0d644f8",
   "metadata": {},
   "outputs": [],
   "source": [
    "r = 2\n",
    "c = 2"
   ]
  },
  {
   "cell_type": "code",
   "execution_count": 67,
   "id": "c3ee40db-a2e0-4b1f-9713-d87a65de3627",
   "metadata": {},
   "outputs": [
    {
     "data": {
      "text/plain": [
       "np.int64(22)"
      ]
     },
     "execution_count": 67,
     "metadata": {},
     "output_type": "execute_result"
    }
   ],
   "source": [
    "mat[r,c]"
   ]
  },
  {
   "cell_type": "code",
   "execution_count": 68,
   "id": "a3966384-e365-49e7-960d-3380b7d8cd79",
   "metadata": {},
   "outputs": [
    {
     "data": {
      "text/plain": [
       "array([40, 41, 42, 43, 44, 45, 46, 47, 48, 49])"
      ]
     },
     "execution_count": 68,
     "metadata": {},
     "output_type": "execute_result"
    }
   ],
   "source": [
    "mat[4]"
   ]
  },
  {
   "cell_type": "code",
   "execution_count": 69,
   "id": "dcf6416c-c160-465c-beb5-b5bcae902efc",
   "metadata": {},
   "outputs": [
    {
     "data": {
      "text/plain": [
       "np.int64(44)"
      ]
     },
     "execution_count": 69,
     "metadata": {},
     "output_type": "execute_result"
    }
   ],
   "source": [
    "mat[4][4]"
   ]
  },
  {
   "cell_type": "code",
   "execution_count": 72,
   "id": "f4d6939b-46a5-44b4-99c1-3d8d69ade513",
   "metadata": {},
   "outputs": [
    {
     "data": {
      "text/plain": [
       "array([[ 0,  1,  2,  3,  4,  5,  6,  7,  8,  9],\n",
       "       [10, 11, 12, 13, 14, 15, 16, 17, 18, 19],\n",
       "       [20, 21, 22, 23, 24, 25, 26, 27, 28, 29],\n",
       "       [30, 31, 32, 33, 34, 35, 36, 37, 38, 39]])"
      ]
     },
     "execution_count": 72,
     "metadata": {},
     "output_type": "execute_result"
    }
   ],
   "source": [
    "mat[:4] # with slices"
   ]
  },
  {
   "cell_type": "code",
   "execution_count": 73,
   "id": "3681906b-e0bc-46b6-a3e9-29c6993f99c3",
   "metadata": {},
   "outputs": [
    {
     "data": {
      "text/plain": [
       "array([[40, 41, 42, 43, 44, 45, 46, 47, 48, 49],\n",
       "       [50, 51, 52, 53, 54, 55, 56, 57, 58, 59],\n",
       "       [60, 61, 62, 63, 64, 65, 66, 67, 68, 69],\n",
       "       [70, 71, 72, 73, 74, 75, 76, 77, 78, 79],\n",
       "       [80, 81, 82, 83, 84, 85, 86, 87, 88, 89],\n",
       "       [90, 91, 92, 93, 94, 95, 96, 97, 98, 99]])"
      ]
     },
     "execution_count": 73,
     "metadata": {},
     "output_type": "execute_result"
    }
   ],
   "source": [
    "mat[4:]"
   ]
  },
  {
   "cell_type": "code",
   "execution_count": 74,
   "id": "b7f68b70-50e8-4a40-9db3-d0b3c4e40dcd",
   "metadata": {},
   "outputs": [
    {
     "data": {
      "text/plain": [
       "array([[ 0,  1,  2,  3,  4,  5,  6,  7,  8,  9],\n",
       "       [10, 11, 12, 13, 14, 15, 16, 17, 18, 19],\n",
       "       [20, 21, 22, 23, 24, 25, 26, 27, 28, 29],\n",
       "       [30, 31, 32, 33, 34, 35, 36, 37, 38, 39],\n",
       "       [40, 41, 42, 43, 44, 45, 46, 47, 48, 49],\n",
       "       [50, 51, 52, 53, 54, 55, 56, 57, 58, 59],\n",
       "       [60, 61, 62, 63, 64, 65, 66, 67, 68, 69],\n",
       "       [70, 71, 72, 73, 74, 75, 76, 77, 78, 79],\n",
       "       [80, 81, 82, 83, 84, 85, 86, 87, 88, 89],\n",
       "       [90, 91, 92, 93, 94, 95, 96, 97, 98, 99]])"
      ]
     },
     "execution_count": 74,
     "metadata": {},
     "output_type": "execute_result"
    }
   ],
   "source": [
    "mat"
   ]
  },
  {
   "cell_type": "code",
   "execution_count": 79,
   "id": "3c47684e-0d17-428a-b61e-6a0094194700",
   "metadata": {},
   "outputs": [
    {
     "data": {
      "text/plain": [
       "array([[ 0],\n",
       "       [10],\n",
       "       [20],\n",
       "       [30],\n",
       "       [40],\n",
       "       [50],\n",
       "       [60],\n",
       "       [70],\n",
       "       [80],\n",
       "       [90]])"
      ]
     },
     "execution_count": 79,
     "metadata": {},
     "output_type": "execute_result"
    }
   ],
   "source": [
    "mat[0:10,0:1]  # print the first coloum "
   ]
  },
  {
   "cell_type": "code",
   "execution_count": 81,
   "id": "783f5756-da94-4db2-a781-841b822977c2",
   "metadata": {},
   "outputs": [
    {
     "data": {
      "text/plain": [
       "array([[ 4,  5],\n",
       "       [14, 15],\n",
       "       [24, 25],\n",
       "       [34, 35],\n",
       "       [44, 45],\n",
       "       [54, 55],\n",
       "       [64, 65],\n",
       "       [74, 75],\n",
       "       [84, 85],\n",
       "       [94, 95]])"
      ]
     },
     "execution_count": 81,
     "metadata": {},
     "output_type": "execute_result"
    }
   ],
   "source": [
    "mat[0:10,4:6] # print the 4 , 5 coloums"
   ]
  },
  {
   "cell_type": "markdown",
   "id": "fe42b50d-9a4d-4ac6-82b1-aad4297a66af",
   "metadata": {},
   "source": [
    "# Masking in numpy(filter)"
   ]
  },
  {
   "cell_type": "code",
   "execution_count": 83,
   "id": "705e6da5-0711-49b8-99cb-e69e987ceee2",
   "metadata": {},
   "outputs": [
    {
     "data": {
      "text/plain": [
       "array([[ 0,  1,  2,  3,  4,  5,  6,  7,  8,  9],\n",
       "       [10, 11, 12, 13, 14, 15, 16, 17, 18, 19],\n",
       "       [20, 21, 22, 23, 24, 25, 26, 27, 28, 29],\n",
       "       [30, 31, 32, 33, 34, 35, 36, 37, 38, 39],\n",
       "       [40, 41, 42, 43, 44, 45, 46, 47, 48, 49],\n",
       "       [50, 51, 52, 53, 54, 55, 56, 57, 58, 59],\n",
       "       [60, 61, 62, 63, 64, 65, 66, 67, 68, 69],\n",
       "       [70, 71, 72, 73, 74, 75, 76, 77, 78, 79],\n",
       "       [80, 81, 82, 83, 84, 85, 86, 87, 88, 89],\n",
       "       [90, 91, 92, 93, 94, 95, 96, 97, 98, 99]])"
      ]
     },
     "execution_count": 83,
     "metadata": {},
     "output_type": "execute_result"
    }
   ],
   "source": [
    "mat"
   ]
  },
  {
   "cell_type": "code",
   "execution_count": 84,
   "id": "b8108d90-df47-4910-9fd7-41ccbfba7001",
   "metadata": {},
   "outputs": [
    {
     "data": {
      "text/plain": [
       "array([[ True,  True,  True,  True,  True,  True,  True,  True,  True,\n",
       "         True],\n",
       "       [ True,  True,  True,  True,  True,  True,  True,  True,  True,\n",
       "         True],\n",
       "       [ True,  True,  True,  True,  True, False, False, False, False,\n",
       "        False],\n",
       "       [False, False, False, False, False, False, False, False, False,\n",
       "        False],\n",
       "       [False, False, False, False, False, False, False, False, False,\n",
       "        False],\n",
       "       [False, False, False, False, False, False, False, False, False,\n",
       "        False],\n",
       "       [False, False, False, False, False, False, False, False, False,\n",
       "        False],\n",
       "       [False, False, False, False, False, False, False, False, False,\n",
       "        False],\n",
       "       [False, False, False, False, False, False, False, False, False,\n",
       "        False],\n",
       "       [False, False, False, False, False, False, False, False, False,\n",
       "        False]])"
      ]
     },
     "execution_count": 84,
     "metadata": {},
     "output_type": "execute_result"
    }
   ],
   "source": [
    "mat < 25"
   ]
  },
  {
   "cell_type": "code",
   "execution_count": 85,
   "id": "866ee0de-86a2-4f2c-9e11-fd71b83c05d2",
   "metadata": {},
   "outputs": [
    {
     "data": {
      "text/plain": [
       "array([ 0,  1,  2,  3,  4,  5,  6,  7,  8,  9, 10, 11, 12, 13, 14, 15, 16,\n",
       "       17, 18, 19, 20, 21, 22, 23, 24])"
      ]
     },
     "execution_count": 85,
     "metadata": {},
     "output_type": "execute_result"
    }
   ],
   "source": [
    "mat[mat < 25]"
   ]
  },
  {
   "cell_type": "code",
   "execution_count": 88,
   "id": "ee378c62-4890-43fe-9f9e-73e0f26421fc",
   "metadata": {},
   "outputs": [
    {
     "data": {
      "text/plain": [
       "array([26, 27, 28, 29, 30, 31, 32, 33, 34, 35, 36, 37, 38, 39, 40, 41, 42,\n",
       "       43, 44, 45, 46, 47, 48, 49, 50, 51, 52, 53, 54, 55, 56, 57, 58, 59,\n",
       "       60, 61, 62, 63, 64, 65, 66, 67, 68, 69, 70, 71, 72, 73, 74, 75, 76,\n",
       "       77, 78, 79, 80, 81, 82, 83, 84, 85, 86, 87, 88, 89, 90, 91, 92, 93,\n",
       "       94, 95, 96, 97, 98, 99])"
      ]
     },
     "execution_count": 88,
     "metadata": {},
     "output_type": "execute_result"
    }
   ],
   "source": [
    "mat[mat > 25]"
   ]
  },
  {
   "cell_type": "code",
   "execution_count": 91,
   "id": "7cb4f5f2-a85c-4cab-ba1a-527fb70c0fef",
   "metadata": {},
   "outputs": [
    {
     "data": {
      "text/plain": [
       "array([50])"
      ]
     },
     "execution_count": 91,
     "metadata": {},
     "output_type": "execute_result"
    }
   ],
   "source": [
    "mat[mat == 50]"
   ]
  },
  {
   "cell_type": "code",
   "execution_count": 92,
   "id": "fe532970-157c-46db-8d44-7aff4a7dc0f7",
   "metadata": {},
   "outputs": [
    {
     "data": {
      "text/plain": [
       "array([ 0,  1,  2,  3,  4,  5,  6,  7,  8,  9, 10, 11, 12, 13, 14, 15, 16,\n",
       "       17, 18, 19, 20, 21, 22, 23, 24, 25, 26, 27, 28, 29, 30, 31, 32, 33,\n",
       "       34, 35, 36, 37, 38, 39, 40, 41, 42, 43, 44, 45, 46, 47, 48, 49, 51,\n",
       "       52, 53, 54, 55, 56, 57, 58, 59, 60, 61, 62, 63, 64, 65, 66, 67, 68,\n",
       "       69, 70, 71, 72, 73, 74, 75, 76, 77, 78, 79, 80, 81, 82, 83, 84, 85,\n",
       "       86, 87, 88, 89, 90, 91, 92, 93, 94, 95, 96, 97, 98, 99])"
      ]
     },
     "execution_count": 92,
     "metadata": {},
     "output_type": "execute_result"
    }
   ],
   "source": [
    "mat[mat != 50]"
   ]
  },
  {
   "cell_type": "code",
   "execution_count": 95,
   "id": "436888d1-0646-4ac5-8e92-0713817aed05",
   "metadata": {},
   "outputs": [
    {
     "data": {
      "text/plain": [
       "array([[1, 0, 0, 0],\n",
       "       [0, 1, 0, 0],\n",
       "       [0, 0, 1, 0],\n",
       "       [0, 0, 0, 1]])"
      ]
     },
     "execution_count": 95,
     "metadata": {},
     "output_type": "execute_result"
    }
   ],
   "source": [
    "i = np.eye(4 , dtype = int) # creat an identi matrix\n",
    "i"
   ]
  },
  {
   "cell_type": "code",
   "execution_count": null,
   "id": "1ee79234-6016-4819-ac6d-80ba1505ee4a",
   "metadata": {},
   "outputs": [],
   "source": []
  }
 ],
 "metadata": {
  "kernelspec": {
   "display_name": "Python 3 (ipykernel)",
   "language": "python",
   "name": "python3"
  },
  "language_info": {
   "codemirror_mode": {
    "name": "ipython",
    "version": 3
   },
   "file_extension": ".py",
   "mimetype": "text/x-python",
   "name": "python",
   "nbconvert_exporter": "python",
   "pygments_lexer": "ipython3",
   "version": "3.13.2"
  }
 },
 "nbformat": 4,
 "nbformat_minor": 5
}
